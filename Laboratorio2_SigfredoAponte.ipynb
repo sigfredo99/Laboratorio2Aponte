{
    "metadata": {
        "kernelspec": {
            "name": "SQL",
            "display_name": "SQL",
            "language": "sql"
        },
        "language_info": {
            "name": "sql",
            "version": ""
        }
    },
    "nbformat_minor": 2,
    "nbformat": 4,
    "cells": [
        {
            "cell_type": "markdown",
            "source": "<h1>Laboratorio N° 02 - Utilizando Operadores de Conjuntos de Datos",
            "metadata": {}
        },
        {
            "cell_type": "markdown",
            "source": "<h2>Ejercicio 1: Operador UNION",
            "metadata": {}
        },
        {
            "cell_type": "markdown",
            "source": "1.1. Conectar con la BD TSQL",
            "metadata": {}
        },
        {
            "cell_type": "code",
            "source": "USE TSQL;\r\nGO",
            "metadata": {},
            "outputs": [
                {
                    "output_type": "display_data",
                    "data": {
                        "text/html": "Commands completed successfully."
                    },
                    "metadata": {}
                },
                {
                    "output_type": "display_data",
                    "data": {
                        "text/html": "Total execution time: 00:00:00"
                    },
                    "metadata": {}
                }
            ],
            "execution_count": 3
        },
        {
            "cell_type": "markdown",
            "source": "1.2. Write a SELECT statement to return the productid and productname columns from the Production.Products table. Filter the results to include only products that have a categoryid value 4",
            "metadata": {}
        },
        {
            "cell_type": "code",
            "source": "SELECT productid,productname FROM Production.Products \r\nWHERE categoryid=4",
            "metadata": {},
            "outputs": [
                {
                    "output_type": "display_data",
                    "data": {
                        "text/html": "(10 rows affected)"
                    },
                    "metadata": {}
                },
                {
                    "output_type": "display_data",
                    "data": {
                        "text/html": "Total execution time: 00:00:00.153"
                    },
                    "metadata": {}
                },
                {
                    "output_type": "execute_result",
                    "execution_count": 4,
                    "data": {
                        "application/vnd.dataresource+json": {
                            "schema": {
                                "fields": [
                                    {
                                        "name": "productid"
                                    },
                                    {
                                        "name": "productname"
                                    }
                                ]
                            },
                            "data": [
                                {
                                    "0": "11",
                                    "1": "Product QMVUN"
                                },
                                {
                                    "0": "12",
                                    "1": "Product OSFNS"
                                },
                                {
                                    "0": "31",
                                    "1": "Product XWOXC"
                                },
                                {
                                    "0": "32",
                                    "1": "Product NUNAW"
                                },
                                {
                                    "0": "33",
                                    "1": "Product ASTMN"
                                },
                                {
                                    "0": "59",
                                    "1": "Product UKXRI"
                                },
                                {
                                    "0": "60",
                                    "1": "Product WHBYK"
                                },
                                {
                                    "0": "69",
                                    "1": "Product COAXA"
                                },
                                {
                                    "0": "71",
                                    "1": "Product MYMOI"
                                },
                                {
                                    "0": "72",
                                    "1": "Product GEEOO"
                                }
                            ]
                        },
                        "text/html": "<table><tr><th>productid</th><th>productname</th></tr><tr><td>11</td><td>Product QMVUN</td></tr><tr><td>12</td><td>Product OSFNS</td></tr><tr><td>31</td><td>Product XWOXC</td></tr><tr><td>32</td><td>Product NUNAW</td></tr><tr><td>33</td><td>Product ASTMN</td></tr><tr><td>59</td><td>Product UKXRI</td></tr><tr><td>60</td><td>Product WHBYK</td></tr><tr><td>69</td><td>Product COAXA</td></tr><tr><td>71</td><td>Product MYMOI</td></tr><tr><td>72</td><td>Product GEEOO</td></tr></table>"
                    },
                    "metadata": {}
                }
            ],
            "execution_count": 4
        },
        {
            "cell_type": "markdown",
            "source": "1.3. Write a SELECT statement to return the productid and productname columns from the Production.Products table. Filter the results to include only products that have a total sales amount of more than $50,000. For the total sales amount, you will need to query the Sales.OrderDetails table and aggregate all order line values (qty * unitprice) for each product",
            "metadata": {}
        },
        {
            "cell_type": "code",
            "source": "SELECT d.productid,p.productname FROM Sales.orderDetails d\r\nINNER JOIN Production.Products p ON p.productid=d.productid\r\nGROUP BY d.productid,p.productname\r\nHAVING sum(d.qty*d.unitprice)>50000;",
            "metadata": {},
            "outputs": [
                {
                    "output_type": "display_data",
                    "data": {
                        "text/html": "(4 rows affected)"
                    },
                    "metadata": {}
                },
                {
                    "output_type": "display_data",
                    "data": {
                        "text/html": "Total execution time: 00:00:00.037"
                    },
                    "metadata": {}
                },
                {
                    "output_type": "execute_result",
                    "execution_count": 5,
                    "data": {
                        "application/vnd.dataresource+json": {
                            "schema": {
                                "fields": [
                                    {
                                        "name": "productid"
                                    },
                                    {
                                        "name": "productname"
                                    }
                                ]
                            },
                            "data": [
                                {
                                    "0": "29",
                                    "1": "Product VJXYN"
                                },
                                {
                                    "0": "38",
                                    "1": "Product QDOMO"
                                },
                                {
                                    "0": "59",
                                    "1": "Product UKXRI"
                                },
                                {
                                    "0": "60",
                                    "1": "Product WHBYK"
                                }
                            ]
                        },
                        "text/html": "<table><tr><th>productid</th><th>productname</th></tr><tr><td>29</td><td>Product VJXYN</td></tr><tr><td>38</td><td>Product QDOMO</td></tr><tr><td>59</td><td>Product UKXRI</td></tr><tr><td>60</td><td>Product WHBYK</td></tr></table>"
                    },
                    "metadata": {}
                }
            ],
            "execution_count": 5
        },
        {
            "cell_type": "markdown",
            "source": "1.3. Write a SELECT statement to retrieve the custid and contactname columns from the Sales.Customers table. Display the top 10 customers by sales amount for January 2008 and display the top 10 customers by sales amount for February 2008. (Hint: write two SELECT statements, each  joining Sales.Customers and Sales.OrderValues, and use the appropriate set operator.)",
            "metadata": {}
        },
        {
            "cell_type": "code",
            "source": "SELECT \r\n    c1.custid,c1.contactname\r\nFROM \r\n(\r\n    SELECT TOP(10)\r\n        o.custid,c.contactname\r\n    FROM Sales.OrderValues AS o\r\n    INNER JOIN Sales.Customers AS c ON c.custid = o.custid\r\n    WHERE o.orderdate >='20080101' AND o.orderdate < '20080201'\r\n    GROUP BY o.custid, c.contactname\r\n    ORDER BY SUM(o.val) DESC\r\n)AS c1\r\nUNION \r\nSELECT \r\n    c2.custid,c2.contactname\r\nFROM \r\n(\r\n    SELECT TOP(10)\r\n        o.custid,c.contactname\r\n    FROM Sales.OrderValues AS o\r\n    INNER JOIN Sales.Customers AS c ON c.custid = o.custid\r\n    WHERE o.orderdate >='20080201' AND o.orderdate < '20080301'\r\n    GROUP BY o.custid, c.contactname\r\n    ORDER BY SUM(o.val) DESC\r\n)AS c2",
            "metadata": {},
            "outputs": [
                {
                    "output_type": "display_data",
                    "data": {
                        "text/html": "(15 rows affected)"
                    },
                    "metadata": {}
                },
                {
                    "output_type": "display_data",
                    "data": {
                        "text/html": "Total execution time: 00:00:00.018"
                    },
                    "metadata": {}
                },
                {
                    "output_type": "execute_result",
                    "execution_count": 6,
                    "data": {
                        "application/vnd.dataresource+json": {
                            "schema": {
                                "fields": [
                                    {
                                        "name": "custid"
                                    },
                                    {
                                        "name": "contactname"
                                    }
                                ]
                            },
                            "data": [
                                {
                                    "0": "9",
                                    "1": "Raghav, Amritansh"
                                },
                                {
                                    "0": "20",
                                    "1": "Kane, John"
                                },
                                {
                                    "0": "30",
                                    "1": "Shabalin, Rostislav"
                                },
                                {
                                    "0": "32",
                                    "1": "Krishnan, Venky"
                                },
                                {
                                    "0": "34",
                                    "1": "Cohen, Shy"
                                },
                                {
                                    "0": "37",
                                    "1": "Crăciun, Ovidiu V."
                                },
                                {
                                    "0": "39",
                                    "1": "Song, Lolan"
                                },
                                {
                                    "0": "55",
                                    "1": "Egelund-Muller, Anja"
                                },
                                {
                                    "0": "62",
                                    "1": "Misiec, Anna"
                                },
                                {
                                    "0": "63",
                                    "1": "Veronesi, Giorgio"
                                },
                                {
                                    "0": "65",
                                    "1": "Moore, Michael"
                                },
                                {
                                    "0": "71",
                                    "1": "Navarro, Tomás"
                                },
                                {
                                    "0": "76",
                                    "1": "Gulbis, Katrin"
                                },
                                {
                                    "0": "81",
                                    "1": "Nagel, Jean-Philippe"
                                },
                                {
                                    "0": "89",
                                    "1": "Smith Jr., Ronaldo"
                                }
                            ]
                        },
                        "text/html": "<table><tr><th>custid</th><th>contactname</th></tr><tr><td>9</td><td>Raghav, Amritansh</td></tr><tr><td>20</td><td>Kane, John</td></tr><tr><td>30</td><td>Shabalin, Rostislav</td></tr><tr><td>32</td><td>Krishnan, Venky</td></tr><tr><td>34</td><td>Cohen, Shy</td></tr><tr><td>37</td><td>Crăciun, Ovidiu V.</td></tr><tr><td>39</td><td>Song, Lolan</td></tr><tr><td>55</td><td>Egelund-Muller, Anja</td></tr><tr><td>62</td><td>Misiec, Anna</td></tr><tr><td>63</td><td>Veronesi, Giorgio</td></tr><tr><td>65</td><td>Moore, Michael</td></tr><tr><td>71</td><td>Navarro, Tomás</td></tr><tr><td>76</td><td>Gulbis, Katrin</td></tr><tr><td>81</td><td>Nagel, Jean-Philippe</td></tr><tr><td>89</td><td>Smith Jr., Ronaldo</td></tr></table>"
                    },
                    "metadata": {}
                }
            ],
            "execution_count": 6
        },
        {
            "cell_type": "markdown",
            "source": "<h2>Ejercicio 2: Operador EXCEPT y INTERSECT",
            "metadata": {}
        },
        {
            "cell_type": "markdown",
            "source": "2.1. Write a SELECT statement to retrieve the custid column from the Sales.Orders table. Filter the results to include only customers who bought more than 20 different products (based on the productid column from the Sales.OrderDetails table)",
            "metadata": {}
        },
        {
            "cell_type": "code",
            "source": "SELECT \r\n    o.custid\r\nFROM Sales.orders AS o \r\nINNER JOIN Sales.orderDetails AS d ON d.orderid= o.orderid\r\nGROUP BY o.custid\r\nHAVING count(distinct d.productid)>20",
            "metadata": {},
            "outputs": [
                {
                    "output_type": "display_data",
                    "data": {
                        "text/html": "(33 rows affected)"
                    },
                    "metadata": {}
                },
                {
                    "output_type": "display_data",
                    "data": {
                        "text/html": "Total execution time: 00:00:00.010"
                    },
                    "metadata": {}
                },
                {
                    "output_type": "execute_result",
                    "execution_count": 7,
                    "data": {
                        "application/vnd.dataresource+json": {
                            "schema": {
                                "fields": [
                                    {
                                        "name": "custid"
                                    }
                                ]
                            },
                            "data": [
                                {
                                    "0": "4"
                                },
                                {
                                    "0": "5"
                                },
                                {
                                    "0": "7"
                                },
                                {
                                    "0": "9"
                                },
                                {
                                    "0": "10"
                                },
                                {
                                    "0": "20"
                                },
                                {
                                    "0": "24"
                                },
                                {
                                    "0": "25"
                                },
                                {
                                    "0": "30"
                                },
                                {
                                    "0": "34"
                                },
                                {
                                    "0": "35"
                                },
                                {
                                    "0": "37"
                                },
                                {
                                    "0": "39"
                                },
                                {
                                    "0": "41"
                                },
                                {
                                    "0": "44"
                                },
                                {
                                    "0": "46"
                                },
                                {
                                    "0": "47"
                                },
                                {
                                    "0": "51"
                                },
                                {
                                    "0": "56"
                                },
                                {
                                    "0": "62"
                                },
                                {
                                    "0": "63"
                                },
                                {
                                    "0": "65"
                                },
                                {
                                    "0": "67"
                                },
                                {
                                    "0": "68"
                                },
                                {
                                    "0": "71"
                                },
                                {
                                    "0": "72"
                                },
                                {
                                    "0": "76"
                                },
                                {
                                    "0": "80"
                                },
                                {
                                    "0": "83"
                                },
                                {
                                    "0": "84"
                                },
                                {
                                    "0": "86"
                                },
                                {
                                    "0": "87"
                                },
                                {
                                    "0": "89"
                                }
                            ]
                        },
                        "text/html": "<table><tr><th>custid</th></tr><tr><td>4</td></tr><tr><td>5</td></tr><tr><td>7</td></tr><tr><td>9</td></tr><tr><td>10</td></tr><tr><td>20</td></tr><tr><td>24</td></tr><tr><td>25</td></tr><tr><td>30</td></tr><tr><td>34</td></tr><tr><td>35</td></tr><tr><td>37</td></tr><tr><td>39</td></tr><tr><td>41</td></tr><tr><td>44</td></tr><tr><td>46</td></tr><tr><td>47</td></tr><tr><td>51</td></tr><tr><td>56</td></tr><tr><td>62</td></tr><tr><td>63</td></tr><tr><td>65</td></tr><tr><td>67</td></tr><tr><td>68</td></tr><tr><td>71</td></tr><tr><td>72</td></tr><tr><td>76</td></tr><tr><td>80</td></tr><tr><td>83</td></tr><tr><td>84</td></tr><tr><td>86</td></tr><tr><td>87</td></tr><tr><td>89</td></tr></table>"
                    },
                    "metadata": {}
                }
            ],
            "execution_count": 7
        },
        {
            "cell_type": "markdown",
            "source": "2.2. Write a SELECT statement to retrieve the custid column from the Sales.Orders table. Filter the results to include only customers from the country USA and exclude all customers from the previous (task 1) result. (Hint: use the EXCEPT operator and the previous query.)",
            "metadata": {}
        },
        {
            "cell_type": "code",
            "source": "SELECT\r\n    custid\r\nFROM Sales.Customers\r\nWHERE country='USA'\r\n\r\nEXCEPT\r\n\r\nSELECT \r\n    o.custid\r\nFROM Sales.Orders AS o\r\nINNER JOIN Sales.OrderDetails AS d ON d.orderid=o.orderid\r\nGROUP BY o.custid\r\nHAVING count(distinct d.productid)>20",
            "metadata": {},
            "outputs": [
                {
                    "output_type": "display_data",
                    "data": {
                        "text/html": "(10 rows affected)"
                    },
                    "metadata": {}
                },
                {
                    "output_type": "display_data",
                    "data": {
                        "text/html": "Total execution time: 00:00:00.013"
                    },
                    "metadata": {}
                },
                {
                    "output_type": "execute_result",
                    "execution_count": 8,
                    "data": {
                        "application/vnd.dataresource+json": {
                            "schema": {
                                "fields": [
                                    {
                                        "name": "custid"
                                    }
                                ]
                            },
                            "data": [
                                {
                                    "0": "32"
                                },
                                {
                                    "0": "36"
                                },
                                {
                                    "0": "43"
                                },
                                {
                                    "0": "45"
                                },
                                {
                                    "0": "48"
                                },
                                {
                                    "0": "55"
                                },
                                {
                                    "0": "75"
                                },
                                {
                                    "0": "77"
                                },
                                {
                                    "0": "78"
                                },
                                {
                                    "0": "82"
                                }
                            ]
                        },
                        "text/html": "<table><tr><th>custid</th></tr><tr><td>32</td></tr><tr><td>36</td></tr><tr><td>43</td></tr><tr><td>45</td></tr><tr><td>48</td></tr><tr><td>55</td></tr><tr><td>75</td></tr><tr><td>77</td></tr><tr><td>78</td></tr><tr><td>82</td></tr></table>"
                    },
                    "metadata": {}
                }
            ],
            "execution_count": 8
        },
        {
            "cell_type": "markdown",
            "source": "2.3. Write a SELECT statement to retrieve the custid column from the Sales.Orders table. Filter only customers who have a total sales value greater than $10,000. Calculate the sales value using the qty and unitprice columns from the Sales.OrderDetails table",
            "metadata": {}
        },
        {
            "cell_type": "code",
            "source": "SELECT o.custid\r\nFROM Sales.Orders AS o \r\nINNER JOIN Sales.OrderDetails AS d ON d.orderid=o.orderid\r\nGROUP BY o.custid\r\nHAVING sum(d.qty*d.unitprice)>10000",
            "metadata": {},
            "outputs": [
                {
                    "output_type": "display_data",
                    "data": {
                        "text/html": "(41 rows affected)"
                    },
                    "metadata": {}
                },
                {
                    "output_type": "display_data",
                    "data": {
                        "text/html": "Total execution time: 00:00:00.010"
                    },
                    "metadata": {}
                },
                {
                    "output_type": "execute_result",
                    "execution_count": 9,
                    "data": {
                        "application/vnd.dataresource+json": {
                            "schema": {
                                "fields": [
                                    {
                                        "name": "custid"
                                    }
                                ]
                            },
                            "data": [
                                {
                                    "0": "23"
                                },
                                {
                                    "0": "46"
                                },
                                {
                                    "0": "75"
                                },
                                {
                                    "0": "9"
                                },
                                {
                                    "0": "89"
                                },
                                {
                                    "0": "72"
                                },
                                {
                                    "0": "32"
                                },
                                {
                                    "0": "35"
                                },
                                {
                                    "0": "86"
                                },
                                {
                                    "0": "63"
                                },
                                {
                                    "0": "55"
                                },
                                {
                                    "0": "67"
                                },
                                {
                                    "0": "87"
                                },
                                {
                                    "0": "7"
                                },
                                {
                                    "0": "44"
                                },
                                {
                                    "0": "50"
                                },
                                {
                                    "0": "24"
                                },
                                {
                                    "0": "47"
                                },
                                {
                                    "0": "30"
                                },
                                {
                                    "0": "10"
                                },
                                {
                                    "0": "41"
                                },
                                {
                                    "0": "4"
                                },
                                {
                                    "0": "65"
                                },
                                {
                                    "0": "19"
                                },
                                {
                                    "0": "73"
                                },
                                {
                                    "0": "25"
                                },
                                {
                                    "0": "62"
                                },
                                {
                                    "0": "5"
                                },
                                {
                                    "0": "56"
                                },
                                {
                                    "0": "76"
                                },
                                {
                                    "0": "59"
                                },
                                {
                                    "0": "39"
                                },
                                {
                                    "0": "71"
                                },
                                {
                                    "0": "83"
                                },
                                {
                                    "0": "34"
                                },
                                {
                                    "0": "20"
                                },
                                {
                                    "0": "68"
                                },
                                {
                                    "0": "80"
                                },
                                {
                                    "0": "14"
                                },
                                {
                                    "0": "37"
                                },
                                {
                                    "0": "51"
                                }
                            ]
                        },
                        "text/html": "<table><tr><th>custid</th></tr><tr><td>23</td></tr><tr><td>46</td></tr><tr><td>75</td></tr><tr><td>9</td></tr><tr><td>89</td></tr><tr><td>72</td></tr><tr><td>32</td></tr><tr><td>35</td></tr><tr><td>86</td></tr><tr><td>63</td></tr><tr><td>55</td></tr><tr><td>67</td></tr><tr><td>87</td></tr><tr><td>7</td></tr><tr><td>44</td></tr><tr><td>50</td></tr><tr><td>24</td></tr><tr><td>47</td></tr><tr><td>30</td></tr><tr><td>10</td></tr><tr><td>41</td></tr><tr><td>4</td></tr><tr><td>65</td></tr><tr><td>19</td></tr><tr><td>73</td></tr><tr><td>25</td></tr><tr><td>62</td></tr><tr><td>5</td></tr><tr><td>56</td></tr><tr><td>76</td></tr><tr><td>59</td></tr><tr><td>39</td></tr><tr><td>71</td></tr><tr><td>83</td></tr><tr><td>34</td></tr><tr><td>20</td></tr><tr><td>68</td></tr><tr><td>80</td></tr><tr><td>14</td></tr><tr><td>37</td></tr><tr><td>51</td></tr></table>"
                    },
                    "metadata": {}
                }
            ],
            "execution_count": 9
        },
        {
            "cell_type": "markdown",
            "source": "<h2>Ejercicio 3: Utilizando el Operador APPLY",
            "metadata": {}
        },
        {
            "cell_type": "markdown",
            "source": "3.1. Write a SELECT statement to retrieve the productid and productname columns from the Production.Products table. In addition, for each product, retrieve the last two rows from the Sales.OrderDetails table based on orderid number.",
            "metadata": {}
        },
        {
            "cell_type": "code",
            "source": "SELECT TOP(2)\r\n    d.orderid\r\n    FROM Sales.OrderDetails AS d\r\n    WHERE d.productid=1\r\n    ORDER BY d.orderid DESC",
            "metadata": {},
            "outputs": [],
            "execution_count": 9
        },
        {
            "cell_type": "markdown",
            "source": "3.2. Use the CROSS APPLY operator and a correlated subquery. Order the result by the column productid",
            "metadata": {}
        },
        {
            "cell_type": "code",
            "source": "SELECT \r\n    p.productid,p.productname,o.orderid\r\nFROM Production.Products AS p\r\nCROSS APPLY\r\n(\r\n    SELECT TOP(2)\r\n    d.orderid\r\n    FROM Sales.OrderDetails AS d\r\n    WHERE d.productid=p.productid\r\n    ORDER BY d.orderid DESC\r\n)O\r\nORDER BY p.productid",
            "metadata": {},
            "outputs": [
                {
                    "output_type": "display_data",
                    "data": {
                        "text/html": "(154 rows affected)"
                    },
                    "metadata": {}
                },
                {
                    "output_type": "display_data",
                    "data": {
                        "text/html": "Total execution time: 00:00:00.009"
                    },
                    "metadata": {}
                },
                {
                    "output_type": "execute_result",
                    "execution_count": 10,
                    "data": {
                        "application/vnd.dataresource+json": {
                            "schema": {
                                "fields": [
                                    {
                                        "name": "productid"
                                    },
                                    {
                                        "name": "productname"
                                    },
                                    {
                                        "name": "orderid"
                                    }
                                ]
                            },
                            "data": [
                                {
                                    "0": "1",
                                    "1": "Product HHYDP",
                                    "2": "11070"
                                },
                                {
                                    "0": "1",
                                    "1": "Product HHYDP",
                                    "2": "11047"
                                },
                                {
                                    "0": "2",
                                    "1": "Product RECZE",
                                    "2": "11077"
                                },
                                {
                                    "0": "2",
                                    "1": "Product RECZE",
                                    "2": "11075"
                                },
                                {
                                    "0": "3",
                                    "1": "Product IMEHJ",
                                    "2": "11077"
                                },
                                {
                                    "0": "3",
                                    "1": "Product IMEHJ",
                                    "2": "11017"
                                },
                                {
                                    "0": "4",
                                    "1": "Product KSBRM",
                                    "2": "11077"
                                },
                                {
                                    "0": "4",
                                    "1": "Product KSBRM",
                                    "2": "11000"
                                },
                                {
                                    "0": "5",
                                    "1": "Product EPEIM",
                                    "2": "11047"
                                },
                                {
                                    "0": "5",
                                    "1": "Product EPEIM",
                                    "2": "11030"
                                },
                                {
                                    "0": "6",
                                    "1": "Product VAIIV",
                                    "2": "11077"
                                },
                                {
                                    "0": "6",
                                    "1": "Product VAIIV",
                                    "2": "11076"
                                },
                                {
                                    "0": "7",
                                    "1": "Product HMLNI",
                                    "2": "11077"
                                },
                                {
                                    "0": "7",
                                    "1": "Product HMLNI",
                                    "2": "11071"
                                },
                                {
                                    "0": "8",
                                    "1": "Product WVJFP",
                                    "2": "11077"
                                },
                                {
                                    "0": "8",
                                    "1": "Product WVJFP",
                                    "2": "11007"
                                },
                                {
                                    "0": "9",
                                    "1": "Product AOZBW",
                                    "2": "10848"
                                },
                                {
                                    "0": "9",
                                    "1": "Product AOZBW",
                                    "2": "10693"
                                },
                                {
                                    "0": "10",
                                    "1": "Product YHXGE",
                                    "2": "11077"
                                },
                                {
                                    "0": "10",
                                    "1": "Product YHXGE",
                                    "2": "11020"
                                },
                                {
                                    "0": "11",
                                    "1": "Product QMVUN",
                                    "2": "11073"
                                },
                                {
                                    "0": "11",
                                    "1": "Product QMVUN",
                                    "2": "11043"
                                },
                                {
                                    "0": "12",
                                    "1": "Product OSFNS",
                                    "2": "11077"
                                },
                                {
                                    "0": "12",
                                    "1": "Product OSFNS",
                                    "2": "11049"
                                },
                                {
                                    "0": "13",
                                    "1": "Product POXFU",
                                    "2": "11077"
                                },
                                {
                                    "0": "13",
                                    "1": "Product POXFU",
                                    "2": "11071"
                                },
                                {
                                    "0": "14",
                                    "1": "Product PWCJB",
                                    "2": "11077"
                                },
                                {
                                    "0": "14",
                                    "1": "Product PWCJB",
                                    "2": "11076"
                                },
                                {
                                    "0": "15",
                                    "1": "Product KSZOI",
                                    "2": "10657"
                                },
                                {
                                    "0": "15",
                                    "1": "Product KSZOI",
                                    "2": "10592"
                                },
                                {
                                    "0": "16",
                                    "1": "Product PAFRH",
                                    "2": "11077"
                                },
                                {
                                    "0": "16",
                                    "1": "Product PAFRH",
                                    "2": "11074"
                                },
                                {
                                    "0": "17",
                                    "1": "Product BLCAX",
                                    "2": "11064"
                                },
                                {
                                    "0": "17",
                                    "1": "Product BLCAX",
                                    "2": "11059"
                                },
                                {
                                    "0": "18",
                                    "1": "Product CKEDC",
                                    "2": "11053"
                                },
                                {
                                    "0": "18",
                                    "1": "Product CKEDC",
                                    "2": "11026"
                                },
                                {
                                    "0": "19",
                                    "1": "Product XKXDO",
                                    "2": "11076"
                                },
                                {
                                    "0": "19",
                                    "1": "Product XKXDO",
                                    "2": "11066"
                                },
                                {
                                    "0": "20",
                                    "1": "Product QHFFP",
                                    "2": "11077"
                                },
                                {
                                    "0": "20",
                                    "1": "Product QHFFP",
                                    "2": "11021"
                                },
                                {
                                    "0": "21",
                                    "1": "Product VJZZH",
                                    "2": "11058"
                                },
                                {
                                    "0": "21",
                                    "1": "Product VJZZH",
                                    "2": "11040"
                                },
                                {
                                    "0": "22",
                                    "1": "Product CPHFY",
                                    "2": "11001"
                                },
                                {
                                    "0": "22",
                                    "1": "Product CPHFY",
                                    "2": "10943"
                                },
                                {
                                    "0": "23",
                                    "1": "Product JLUDZ",
                                    "2": "11077"
                                },
                                {
                                    "0": "23",
                                    "1": "Product JLUDZ",
                                    "2": "11013"
                                },
                                {
                                    "0": "24",
                                    "1": "Product QOGNU",
                                    "2": "11073"
                                },
                                {
                                    "0": "24",
                                    "1": "Product QOGNU",
                                    "2": "11055"
                                },
                                {
                                    "0": "25",
                                    "1": "Product LYLNI",
                                    "2": "11055"
                                },
                                {
                                    "0": "25",
                                    "1": "Product LYLNI",
                                    "2": "10919"
                                },
                                {
                                    "0": "26",
                                    "1": "Product HLGZA",
                                    "2": "11024"
                                },
                                {
                                    "0": "26",
                                    "1": "Product HLGZA",
                                    "2": "11021"
                                },
                                {
                                    "0": "27",
                                    "1": "Product SMIOH",
                                    "2": "10979"
                                },
                                {
                                    "0": "27",
                                    "1": "Product SMIOH",
                                    "2": "10930"
                                },
                                {
                                    "0": "28",
                                    "1": "Product OFBNT",
                                    "2": "11068"
                                },
                                {
                                    "0": "28",
                                    "1": "Product OFBNT",
                                    "2": "11039"
                                },
                                {
                                    "0": "29",
                                    "1": "Product VJXYN",
                                    "2": "11030"
                                },
                                {
                                    "0": "29",
                                    "1": "Product VJXYN",
                                    "2": "11007"
                                },
                                {
                                    "0": "30",
                                    "1": "Product LYERX",
                                    "2": "11065"
                                },
                                {
                                    "0": "30",
                                    "1": "Product LYERX",
                                    "2": "11015"
                                },
                                {
                                    "0": "31",
                                    "1": "Product XWOXC",
                                    "2": "11070"
                                },
                                {
                                    "0": "31",
                                    "1": "Product XWOXC",
                                    "2": "11016"
                                },
                                {
                                    "0": "32",
                                    "1": "Product NUNAW",
                                    "2": "11077"
                                },
                                {
                                    "0": "32",
                                    "1": "Product NUNAW",
                                    "2": "11053"
                                },
                                {
                                    "0": "33",
                                    "1": "Product ASTMN",
                                    "2": "11054"
                                },
                                {
                                    "0": "33",
                                    "1": "Product ASTMN",
                                    "2": "11045"
                                },
                                {
                                    "0": "34",
                                    "1": "Product SWNJY",
                                    "2": "11066"
                                },
                                {
                                    "0": "34",
                                    "1": "Product SWNJY",
                                    "2": "11063"
                                },
                                {
                                    "0": "35",
                                    "1": "Product NEVTJ",
                                    "2": "11046"
                                },
                                {
                                    "0": "35",
                                    "1": "Product NEVTJ",
                                    "2": "11039"
                                },
                                {
                                    "0": "36",
                                    "1": "Product GMKIJ",
                                    "2": "11032"
                                },
                                {
                                    "0": "36",
                                    "1": "Product GMKIJ",
                                    "2": "11016"
                                },
                                {
                                    "0": "37",
                                    "1": "Product EVFFA",
                                    "2": "10966"
                                },
                                {
                                    "0": "37",
                                    "1": "Product EVFFA",
                                    "2": "10847"
                                },
                                {
                                    "0": "38",
                                    "1": "Product QDOMO",
                                    "2": "11032"
                                },
                                {
                                    "0": "38",
                                    "1": "Product QDOMO",
                                    "2": "10981"
                                },
                                {
                                    "0": "39",
                                    "1": "Product LSOFL",
                                    "2": "11077"
                                },
                                {
                                    "0": "39",
                                    "1": "Product LSOFL",
                                    "2": "11069"
                                },
                                {
                                    "0": "40",
                                    "1": "Product YZIXQ",
                                    "2": "11063"
                                },
                                {
                                    "0": "40",
                                    "1": "Product YZIXQ",
                                    "2": "11038"
                                },
                                {
                                    "0": "41",
                                    "1": "Product TTEEX",
                                    "2": "11077"
                                },
                                {
                                    "0": "41",
                                    "1": "Product TTEEX",
                                    "2": "11072"
                                },
                                {
                                    "0": "42",
                                    "1": "Product RJVNM",
                                    "2": "11035"
                                },
                                {
                                    "0": "42",
                                    "1": "Product RJVNM",
                                    "2": "11013"
                                },
                                {
                                    "0": "43",
                                    "1": "Product ZZZHR",
                                    "2": "11068"
                                },
                                {
                                    "0": "43",
                                    "1": "Product ZZZHR",
                                    "2": "11052"
                                },
                                {
                                    "0": "44",
                                    "1": "Product VJIEO",
                                    "2": "11042"
                                },
                                {
                                    "0": "44",
                                    "1": "Product VJIEO",
                                    "2": "11034"
                                },
                                {
                                    "0": "45",
                                    "1": "Product AQOKR",
                                    "2": "11013"
                                },
                                {
                                    "0": "45",
                                    "1": "Product AQOKR",
                                    "2": "10954"
                                },
                                {
                                    "0": "46",
                                    "1": "Product CBRRL",
                                    "2": "11077"
                                },
                                {
                                    "0": "46",
                                    "1": "Product CBRRL",
                                    "2": "11075"
                                },
                                {
                                    "0": "47",
                                    "1": "Product EZZPR",
                                    "2": "10977"
                                },
                                {
                                    "0": "47",
                                    "1": "Product EZZPR",
                                    "2": "10956"
                                },
                                {
                                    "0": "48",
                                    "1": "Product MYNXN",
                                    "2": "10814"
                                },
                                {
                                    "0": "48",
                                    "1": "Product MYNXN",
                                    "2": "10704"
                                },
                                {
                                    "0": "49",
                                    "1": "Product FPYPN",
                                    "2": "11039"
                                },
                                {
                                    "0": "49",
                                    "1": "Product FPYPN",
                                    "2": "11019"
                                },
                                {
                                    "0": "50",
                                    "1": "Product BIUDV",
                                    "2": "11072"
                                },
                                {
                                    "0": "50",
                                    "1": "Product BIUDV",
                                    "2": "10948"
                                },
                                {
                                    "0": "51",
                                    "1": "Product APITJ",
                                    "2": "11055"
                                },
                                {
                                    "0": "51",
                                    "1": "Product APITJ",
                                    "2": "11045"
                                },
                                {
                                    "0": "52",
                                    "1": "Product QSRXF",
                                    "2": "11077"
                                },
                                {
                                    "0": "52",
                                    "1": "Product QSRXF",
                                    "2": "11038"
                                },
                                {
                                    "0": "53",
                                    "1": "Product BKGEA",
                                    "2": "11064"
                                },
                                {
                                    "0": "53",
                                    "1": "Product BKGEA",
                                    "2": "11062"
                                },
                                {
                                    "0": "54",
                                    "1": "Product QAQRL",
                                    "2": "11065"
                                },
                                {
                                    "0": "54",
                                    "1": "Product QAQRL",
                                    "2": "11035"
                                },
                                {
                                    "0": "55",
                                    "1": "Product YYWRT",
                                    "2": "11077"
                                },
                                {
                                    "0": "55",
                                    "1": "Product YYWRT",
                                    "2": "11064"
                                },
                                {
                                    "0": "56",
                                    "1": "Product VKCMF",
                                    "2": "11029"
                                },
                                {
                                    "0": "56",
                                    "1": "Product VKCMF",
                                    "2": "11018"
                                },
                                {
                                    "0": "57",
                                    "1": "Product OVLQI",
                                    "2": "11055"
                                },
                                {
                                    "0": "57",
                                    "1": "Product OVLQI",
                                    "2": "11039"
                                },
                                {
                                    "0": "58",
                                    "1": "Product ACRVI",
                                    "2": "11011"
                                },
                                {
                                    "0": "58",
                                    "1": "Product ACRVI",
                                    "2": "10930"
                                },
                                {
                                    "0": "59",
                                    "1": "Product UKXRI",
                                    "2": "11036"
                                },
                                {
                                    "0": "59",
                                    "1": "Product UKXRI",
                                    "2": "11032"
                                },
                                {
                                    "0": "60",
                                    "1": "Product WHBYK",
                                    "2": "11077"
                                },
                                {
                                    "0": "60",
                                    "1": "Product WHBYK",
                                    "2": "11061"
                                },
                                {
                                    "0": "61",
                                    "1": "Product XYZPE",
                                    "2": "11058"
                                },
                                {
                                    "0": "61",
                                    "1": "Product XYZPE",
                                    "2": "11052"
                                },
                                {
                                    "0": "62",
                                    "1": "Product WUXYK",
                                    "2": "11044"
                                },
                                {
                                    "0": "62",
                                    "1": "Product WUXYK",
                                    "2": "11027"
                                },
                                {
                                    "0": "63",
                                    "1": "Product ICKNK",
                                    "2": "11041"
                                },
                                {
                                    "0": "63",
                                    "1": "Product ICKNK",
                                    "2": "11029"
                                },
                                {
                                    "0": "64",
                                    "1": "Product HCQDE",
                                    "2": "11077"
                                },
                                {
                                    "0": "64",
                                    "1": "Product HCQDE",
                                    "2": "11072"
                                },
                                {
                                    "0": "65",
                                    "1": "Product XYWBZ",
                                    "2": "11024"
                                },
                                {
                                    "0": "65",
                                    "1": "Product XYWBZ",
                                    "2": "10903"
                                },
                                {
                                    "0": "66",
                                    "1": "Product LQMGN",
                                    "2": "11077"
                                },
                                {
                                    "0": "66",
                                    "1": "Product LQMGN",
                                    "2": "10774"
                                },
                                {
                                    "0": "67",
                                    "1": "Product XLXQF",
                                    "2": "11054"
                                },
                                {
                                    "0": "67",
                                    "1": "Product XLXQF",
                                    "2": "10939"
                                },
                                {
                                    "0": "68",
                                    "1": "Product TBTBL",
                                    "2": "11064"
                                },
                                {
                                    "0": "68",
                                    "1": "Product TBTBL",
                                    "2": "11048"
                                },
                                {
                                    "0": "69",
                                    "1": "Product COAXA",
                                    "2": "11033"
                                },
                                {
                                    "0": "69",
                                    "1": "Product COAXA",
                                    "2": "11022"
                                },
                                {
                                    "0": "70",
                                    "1": "Product TOONT",
                                    "2": "11062"
                                },
                                {
                                    "0": "70",
                                    "1": "Product TOONT",
                                    "2": "11057"
                                },
                                {
                                    "0": "71",
                                    "1": "Product MYMOI",
                                    "2": "11038"
                                },
                                {
                                    "0": "71",
                                    "1": "Product MYMOI",
                                    "2": "11031"
                                },
                                {
                                    "0": "72",
                                    "1": "Product GEEOO",
                                    "2": "11021"
                                },
                                {
                                    "0": "72",
                                    "1": "Product GEEOO",
                                    "2": "10992"
                                },
                                {
                                    "0": "73",
                                    "1": "Product WEUJZ",
                                    "2": "11077"
                                },
                                {
                                    "0": "73",
                                    "1": "Product WEUJZ",
                                    "2": "10881"
                                },
                                {
                                    "0": "74",
                                    "1": "Product BKAZJ",
                                    "2": "10998"
                                },
                                {
                                    "0": "74",
                                    "1": "Product BKAZJ",
                                    "2": "10846"
                                },
                                {
                                    "0": "75",
                                    "1": "Product BWRLG",
                                    "2": "11077"
                                },
                                {
                                    "0": "75",
                                    "1": "Product BWRLG",
                                    "2": "10998"
                                },
                                {
                                    "0": "76",
                                    "1": "Product JYGFE",
                                    "2": "11075"
                                },
                                {
                                    "0": "76",
                                    "1": "Product JYGFE",
                                    "2": "11050"
                                },
                                {
                                    "0": "77",
                                    "1": "Product LUNZZ",
                                    "2": "11077"
                                },
                                {
                                    "0": "77",
                                    "1": "Product LUNZZ",
                                    "2": "11068"
                                }
                            ]
                        },
                        "text/html": "<table><tr><th>productid</th><th>productname</th><th>orderid</th></tr><tr><td>1</td><td>Product HHYDP</td><td>11070</td></tr><tr><td>1</td><td>Product HHYDP</td><td>11047</td></tr><tr><td>2</td><td>Product RECZE</td><td>11077</td></tr><tr><td>2</td><td>Product RECZE</td><td>11075</td></tr><tr><td>3</td><td>Product IMEHJ</td><td>11077</td></tr><tr><td>3</td><td>Product IMEHJ</td><td>11017</td></tr><tr><td>4</td><td>Product KSBRM</td><td>11077</td></tr><tr><td>4</td><td>Product KSBRM</td><td>11000</td></tr><tr><td>5</td><td>Product EPEIM</td><td>11047</td></tr><tr><td>5</td><td>Product EPEIM</td><td>11030</td></tr><tr><td>6</td><td>Product VAIIV</td><td>11077</td></tr><tr><td>6</td><td>Product VAIIV</td><td>11076</td></tr><tr><td>7</td><td>Product HMLNI</td><td>11077</td></tr><tr><td>7</td><td>Product HMLNI</td><td>11071</td></tr><tr><td>8</td><td>Product WVJFP</td><td>11077</td></tr><tr><td>8</td><td>Product WVJFP</td><td>11007</td></tr><tr><td>9</td><td>Product AOZBW</td><td>10848</td></tr><tr><td>9</td><td>Product AOZBW</td><td>10693</td></tr><tr><td>10</td><td>Product YHXGE</td><td>11077</td></tr><tr><td>10</td><td>Product YHXGE</td><td>11020</td></tr><tr><td>11</td><td>Product QMVUN</td><td>11073</td></tr><tr><td>11</td><td>Product QMVUN</td><td>11043</td></tr><tr><td>12</td><td>Product OSFNS</td><td>11077</td></tr><tr><td>12</td><td>Product OSFNS</td><td>11049</td></tr><tr><td>13</td><td>Product POXFU</td><td>11077</td></tr><tr><td>13</td><td>Product POXFU</td><td>11071</td></tr><tr><td>14</td><td>Product PWCJB</td><td>11077</td></tr><tr><td>14</td><td>Product PWCJB</td><td>11076</td></tr><tr><td>15</td><td>Product KSZOI</td><td>10657</td></tr><tr><td>15</td><td>Product KSZOI</td><td>10592</td></tr><tr><td>16</td><td>Product PAFRH</td><td>11077</td></tr><tr><td>16</td><td>Product PAFRH</td><td>11074</td></tr><tr><td>17</td><td>Product BLCAX</td><td>11064</td></tr><tr><td>17</td><td>Product BLCAX</td><td>11059</td></tr><tr><td>18</td><td>Product CKEDC</td><td>11053</td></tr><tr><td>18</td><td>Product CKEDC</td><td>11026</td></tr><tr><td>19</td><td>Product XKXDO</td><td>11076</td></tr><tr><td>19</td><td>Product XKXDO</td><td>11066</td></tr><tr><td>20</td><td>Product QHFFP</td><td>11077</td></tr><tr><td>20</td><td>Product QHFFP</td><td>11021</td></tr><tr><td>21</td><td>Product VJZZH</td><td>11058</td></tr><tr><td>21</td><td>Product VJZZH</td><td>11040</td></tr><tr><td>22</td><td>Product CPHFY</td><td>11001</td></tr><tr><td>22</td><td>Product CPHFY</td><td>10943</td></tr><tr><td>23</td><td>Product JLUDZ</td><td>11077</td></tr><tr><td>23</td><td>Product JLUDZ</td><td>11013</td></tr><tr><td>24</td><td>Product QOGNU</td><td>11073</td></tr><tr><td>24</td><td>Product QOGNU</td><td>11055</td></tr><tr><td>25</td><td>Product LYLNI</td><td>11055</td></tr><tr><td>25</td><td>Product LYLNI</td><td>10919</td></tr><tr><td>26</td><td>Product HLGZA</td><td>11024</td></tr><tr><td>26</td><td>Product HLGZA</td><td>11021</td></tr><tr><td>27</td><td>Product SMIOH</td><td>10979</td></tr><tr><td>27</td><td>Product SMIOH</td><td>10930</td></tr><tr><td>28</td><td>Product OFBNT</td><td>11068</td></tr><tr><td>28</td><td>Product OFBNT</td><td>11039</td></tr><tr><td>29</td><td>Product VJXYN</td><td>11030</td></tr><tr><td>29</td><td>Product VJXYN</td><td>11007</td></tr><tr><td>30</td><td>Product LYERX</td><td>11065</td></tr><tr><td>30</td><td>Product LYERX</td><td>11015</td></tr><tr><td>31</td><td>Product XWOXC</td><td>11070</td></tr><tr><td>31</td><td>Product XWOXC</td><td>11016</td></tr><tr><td>32</td><td>Product NUNAW</td><td>11077</td></tr><tr><td>32</td><td>Product NUNAW</td><td>11053</td></tr><tr><td>33</td><td>Product ASTMN</td><td>11054</td></tr><tr><td>33</td><td>Product ASTMN</td><td>11045</td></tr><tr><td>34</td><td>Product SWNJY</td><td>11066</td></tr><tr><td>34</td><td>Product SWNJY</td><td>11063</td></tr><tr><td>35</td><td>Product NEVTJ</td><td>11046</td></tr><tr><td>35</td><td>Product NEVTJ</td><td>11039</td></tr><tr><td>36</td><td>Product GMKIJ</td><td>11032</td></tr><tr><td>36</td><td>Product GMKIJ</td><td>11016</td></tr><tr><td>37</td><td>Product EVFFA</td><td>10966</td></tr><tr><td>37</td><td>Product EVFFA</td><td>10847</td></tr><tr><td>38</td><td>Product QDOMO</td><td>11032</td></tr><tr><td>38</td><td>Product QDOMO</td><td>10981</td></tr><tr><td>39</td><td>Product LSOFL</td><td>11077</td></tr><tr><td>39</td><td>Product LSOFL</td><td>11069</td></tr><tr><td>40</td><td>Product YZIXQ</td><td>11063</td></tr><tr><td>40</td><td>Product YZIXQ</td><td>11038</td></tr><tr><td>41</td><td>Product TTEEX</td><td>11077</td></tr><tr><td>41</td><td>Product TTEEX</td><td>11072</td></tr><tr><td>42</td><td>Product RJVNM</td><td>11035</td></tr><tr><td>42</td><td>Product RJVNM</td><td>11013</td></tr><tr><td>43</td><td>Product ZZZHR</td><td>11068</td></tr><tr><td>43</td><td>Product ZZZHR</td><td>11052</td></tr><tr><td>44</td><td>Product VJIEO</td><td>11042</td></tr><tr><td>44</td><td>Product VJIEO</td><td>11034</td></tr><tr><td>45</td><td>Product AQOKR</td><td>11013</td></tr><tr><td>45</td><td>Product AQOKR</td><td>10954</td></tr><tr><td>46</td><td>Product CBRRL</td><td>11077</td></tr><tr><td>46</td><td>Product CBRRL</td><td>11075</td></tr><tr><td>47</td><td>Product EZZPR</td><td>10977</td></tr><tr><td>47</td><td>Product EZZPR</td><td>10956</td></tr><tr><td>48</td><td>Product MYNXN</td><td>10814</td></tr><tr><td>48</td><td>Product MYNXN</td><td>10704</td></tr><tr><td>49</td><td>Product FPYPN</td><td>11039</td></tr><tr><td>49</td><td>Product FPYPN</td><td>11019</td></tr><tr><td>50</td><td>Product BIUDV</td><td>11072</td></tr><tr><td>50</td><td>Product BIUDV</td><td>10948</td></tr><tr><td>51</td><td>Product APITJ</td><td>11055</td></tr><tr><td>51</td><td>Product APITJ</td><td>11045</td></tr><tr><td>52</td><td>Product QSRXF</td><td>11077</td></tr><tr><td>52</td><td>Product QSRXF</td><td>11038</td></tr><tr><td>53</td><td>Product BKGEA</td><td>11064</td></tr><tr><td>53</td><td>Product BKGEA</td><td>11062</td></tr><tr><td>54</td><td>Product QAQRL</td><td>11065</td></tr><tr><td>54</td><td>Product QAQRL</td><td>11035</td></tr><tr><td>55</td><td>Product YYWRT</td><td>11077</td></tr><tr><td>55</td><td>Product YYWRT</td><td>11064</td></tr><tr><td>56</td><td>Product VKCMF</td><td>11029</td></tr><tr><td>56</td><td>Product VKCMF</td><td>11018</td></tr><tr><td>57</td><td>Product OVLQI</td><td>11055</td></tr><tr><td>57</td><td>Product OVLQI</td><td>11039</td></tr><tr><td>58</td><td>Product ACRVI</td><td>11011</td></tr><tr><td>58</td><td>Product ACRVI</td><td>10930</td></tr><tr><td>59</td><td>Product UKXRI</td><td>11036</td></tr><tr><td>59</td><td>Product UKXRI</td><td>11032</td></tr><tr><td>60</td><td>Product WHBYK</td><td>11077</td></tr><tr><td>60</td><td>Product WHBYK</td><td>11061</td></tr><tr><td>61</td><td>Product XYZPE</td><td>11058</td></tr><tr><td>61</td><td>Product XYZPE</td><td>11052</td></tr><tr><td>62</td><td>Product WUXYK</td><td>11044</td></tr><tr><td>62</td><td>Product WUXYK</td><td>11027</td></tr><tr><td>63</td><td>Product ICKNK</td><td>11041</td></tr><tr><td>63</td><td>Product ICKNK</td><td>11029</td></tr><tr><td>64</td><td>Product HCQDE</td><td>11077</td></tr><tr><td>64</td><td>Product HCQDE</td><td>11072</td></tr><tr><td>65</td><td>Product XYWBZ</td><td>11024</td></tr><tr><td>65</td><td>Product XYWBZ</td><td>10903</td></tr><tr><td>66</td><td>Product LQMGN</td><td>11077</td></tr><tr><td>66</td><td>Product LQMGN</td><td>10774</td></tr><tr><td>67</td><td>Product XLXQF</td><td>11054</td></tr><tr><td>67</td><td>Product XLXQF</td><td>10939</td></tr><tr><td>68</td><td>Product TBTBL</td><td>11064</td></tr><tr><td>68</td><td>Product TBTBL</td><td>11048</td></tr><tr><td>69</td><td>Product COAXA</td><td>11033</td></tr><tr><td>69</td><td>Product COAXA</td><td>11022</td></tr><tr><td>70</td><td>Product TOONT</td><td>11062</td></tr><tr><td>70</td><td>Product TOONT</td><td>11057</td></tr><tr><td>71</td><td>Product MYMOI</td><td>11038</td></tr><tr><td>71</td><td>Product MYMOI</td><td>11031</td></tr><tr><td>72</td><td>Product GEEOO</td><td>11021</td></tr><tr><td>72</td><td>Product GEEOO</td><td>10992</td></tr><tr><td>73</td><td>Product WEUJZ</td><td>11077</td></tr><tr><td>73</td><td>Product WEUJZ</td><td>10881</td></tr><tr><td>74</td><td>Product BKAZJ</td><td>10998</td></tr><tr><td>74</td><td>Product BKAZJ</td><td>10846</td></tr><tr><td>75</td><td>Product BWRLG</td><td>11077</td></tr><tr><td>75</td><td>Product BWRLG</td><td>10998</td></tr><tr><td>76</td><td>Product JYGFE</td><td>11075</td></tr><tr><td>76</td><td>Product JYGFE</td><td>11050</td></tr><tr><td>77</td><td>Product LUNZZ</td><td>11077</td></tr><tr><td>77</td><td>Product LUNZZ</td><td>11068</td></tr></table>"
                    },
                    "metadata": {}
                }
            ],
            "execution_count": 10
        },
        {
            "cell_type": "markdown",
            "source": "3.3. Ejecutar la sentencia siguiente para crear la función fnGetTop3ProductsForCustomer.",
            "metadata": {}
        },
        {
            "cell_type": "code",
            "source": "DROP FUNCTION IF EXISTS dbo.fnGetTop3ProductsForCustomer; \r\nGO \r\nCREATE FUNCTION dbo.fnGetTop3ProductsForCustomer (@custid AS INT) \r\nRETURNS TABLE AS \r\nRETURN \r\nSELECT TOP(3) d.productid, p.productname, SUM(d.qty * d.unitprice) AS totalsalesamount \r\nFROM Sales.Orders AS o \r\nINNER JOIN Sales.OrderDetails AS d ON d.orderid = o.orderid \r\nINNER JOIN Production.Products AS p ON p.productid = d.productid \r\nWHERE custid = @custid \r\nGROUP BY d.productid, p.productname \r\nORDER BY totalsalesamount DESC;",
            "metadata": {},
            "outputs": [
                {
                    "output_type": "display_data",
                    "data": {
                        "text/html": "Commands completed successfully."
                    },
                    "metadata": {}
                },
                {
                    "output_type": "display_data",
                    "data": {
                        "text/html": "Commands completed successfully."
                    },
                    "metadata": {}
                },
                {
                    "output_type": "display_data",
                    "data": {
                        "text/html": "Total execution time: 00:00:00.014"
                    },
                    "metadata": {}
                }
            ],
            "execution_count": 12
        },
        {
            "cell_type": "markdown",
            "source": "3.4. Write a SELECT statement to retrieve the custid and contactname columns from the Sales.Customers table. Use the CROSS APPLY operator with the dbo.fnGetTop3ProductsForCustomer function to retrieve productid, productname, and totalsalesamount columns for each customer",
            "metadata": {}
        },
        {
            "cell_type": "code",
            "source": "SELECT \r\n    c.custid,c.contactname,p.productid,p.productname,p.totalsalesamount\r\n    FROM Sales.Customers AS C\r\nCROSS APPLY dbo.fnGetTop3ProductsForCustomer (c.custid) AS p\r\nORDER BY c.custid",
            "metadata": {},
            "outputs": [
                {
                    "output_type": "error",
                    "ename": "",
                    "evalue": "Msg 156, Level 15, State 1, Line 6\r\nSintaxis incorrecta cerca de la palabra clave 'CROSS'.",
                    "traceback": []
                },
                {
                    "output_type": "display_data",
                    "data": {
                        "text/html": "Total execution time: 00:00:00"
                    },
                    "metadata": {}
                }
            ],
            "execution_count": 11
        }
    ]
}